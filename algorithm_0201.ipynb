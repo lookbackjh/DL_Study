{
 "cells": [
  {
   "cell_type": "markdown",
   "metadata": {},
   "source": [
    "## 9095\n"
   ]
  },
  {
   "cell_type": "code",
   "execution_count": 1,
   "metadata": {},
   "outputs": [
    {
     "name": "stdout",
     "output_type": "stream",
     "text": [
      "1\n",
      "2\n",
      "4\n"
     ]
    }
   ],
   "source": [
    "T= int(input())\n",
    "getinput=[]\n",
    "for i in range(T):\n",
    "    temp=int(input())\n",
    "    getinput.append(temp)\n",
    "\n",
    "\n",
    "\n",
    "\n",
    "def dodp(number):\n",
    "    counts=[0]*1000\n",
    "    counts[0]=1 # 1\n",
    "    counts[1]=2 # 1+1, 2\n",
    "    counts[2]=4 # 1+1+1, 1+2, 2+1 3\n",
    "    for i in range(3,number):\n",
    "        counts[i]=counts[i-1]+counts[i-2]+counts[i-3]\n",
    "        (counts[i])\n",
    "    return counts[number-1]\n",
    "\n",
    "for i in getinput:\n",
    "    print(dodp(i))\n",
    "\n",
    "\n",
    "\n",
    "\n"
   ]
  },
  {
   "cell_type": "markdown",
   "metadata": {},
   "source": [
    "## 11726\n"
   ]
  },
  {
   "cell_type": "code",
   "execution_count": 2,
   "metadata": {},
   "outputs": [
    {
     "name": "stdout",
     "output_type": "stream",
     "text": [
      "89\n"
     ]
    }
   ],
   "source": [
    "T= int(input())\n",
    "counts=[0]*1001\n",
    "counts[1]=1\n",
    "counts[2]=2\n",
    "for i in range(3, 1001):\n",
    "    counts[i]=counts[i-1]+counts[i-2]\n",
    "\n",
    "print(counts[T]%10007)\n"
   ]
  },
  {
   "cell_type": "markdown",
   "metadata": {},
   "source": [
    "## 1934\n"
   ]
  },
  {
   "cell_type": "code",
   "execution_count": 6,
   "metadata": {},
   "outputs": [
    {
     "name": "stdout",
     "output_type": "stream",
     "text": [
      "45000\n",
      "30\n",
      "221\n"
     ]
    }
   ],
   "source": [
    "\n",
    "\n",
    "T= int(input()) #number of test cases\n",
    "def getgcd(a,b):\n",
    "    while b!=0:\n",
    "        a,b=b,a%b\n",
    "    return a\n",
    "As=[]\n",
    "Bs=[]\n",
    "for i in range(T):\n",
    "    a,b=map(int, input().split())\n",
    "    As.append(a)\n",
    "    Bs.append(b)\n",
    "\n",
    "for i in range(T):\n",
    "    print(As[i]*Bs[i]//getgcd(As[i],Bs[i]))\n",
    "    \n"
   ]
  },
  {
   "cell_type": "markdown",
   "metadata": {},
   "source": [
    "## 10430\n"
   ]
  },
  {
   "cell_type": "code",
   "execution_count": null,
   "metadata": {},
   "outputs": [],
   "source": [
    "a,b,c=map(int, input().split())\n",
    "print((a+b)%c)\n",
    "print(((a%c)+(b%c))%c)\n",
    "print((a*b)%c)\n",
    "print(((a%c)*(b%c))%c)\n"
   ]
  },
  {
   "cell_type": "markdown",
   "metadata": {},
   "source": [
    "## 11655"
   ]
  },
  {
   "cell_type": "code",
   "execution_count": 9,
   "metadata": {},
   "outputs": [
    {
     "name": "stdout",
     "output_type": "stream",
     "text": [
      "Onrxwbba Bayvar Whqtr\n"
     ]
    }
   ],
   "source": [
    "A=input()\n",
    "def converttorot13(string):\n",
    "    result=\"\"\n",
    "    for i in string:\n",
    "        if i.islower():\n",
    "            if ord(i)+13>ord('z'):\n",
    "                result+=chr(ord(i)+13-26)\n",
    "            else:\n",
    "                result+=chr(ord(i)+13)\n",
    "        elif i.isupper():\n",
    "            if ord(i)+13>ord('Z'):\n",
    "                result+=chr(ord(i)+13-26)\n",
    "            else:\n",
    "                result+=chr(ord(i)+13)\n",
    "        else:\n",
    "            result+=i\n",
    "    return result\n",
    "\n",
    "print(converttorot13(A))"
   ]
  },
  {
   "cell_type": "markdown",
   "metadata": {},
   "source": [
    "## 1463\n",
    "\n"
   ]
  },
  {
   "cell_type": "code",
   "execution_count": 12,
   "metadata": {},
   "outputs": [
    {
     "name": "stdout",
     "output_type": "stream",
     "text": [
      "3\n"
     ]
    }
   ],
   "source": [
    "#include<iostream>\n",
    "#include<vector>\n",
    "#include<algorithm>\n",
    "\n",
    "# using namespace std;\n",
    "# int count_dec(int todec)\n",
    "# {\n",
    "# \tvector<int> counts(todec+1,1000001);\n",
    "# \tcounts[1] = 0;\n",
    "# \tfor (int i = 2; i <= todec; i++)\n",
    "# \t{\n",
    "# \t\tif (i % 2 == 0 && i % 3 == 0)\n",
    "# \t\t\tcounts[i] = min(min(counts[i - 1], counts[i / 2]), counts[i / 3]) + 1;\n",
    "# \t\telse if (i % 2 == 0)\n",
    "# \t\t\tcounts[i] = min(counts[i - 1], counts[i / 2]) + 1;\n",
    "# \t\telse if (i % 3 == 0)\n",
    "# \t\t\tcounts[i] = min(counts[i - 1], counts[i / 3]) + 1;\n",
    "# \t\telse\n",
    "# \t\t\tcounts[i] = counts[i - 1] + 1;\n",
    "# \t}\n",
    "# \treturn counts[todec];\n",
    "\n",
    "\n",
    "# }\n",
    "# int main()\n",
    "# {\n",
    "\n",
    "# \tint to_dec;\n",
    "# \tcin >> to_dec;\n",
    "# \tint res = count_dec(to_dec);\n",
    "# \tcout << res;\n",
    "\n",
    "\n",
    "# }\n",
    "# change to python\n",
    "def count_dec(todec):\n",
    "    counts=[1000001]*(todec+1)\n",
    "    counts[1]=0\n",
    "    for i in range(2,todec+1):\n",
    "        if i%2==0 and i%3==0:\n",
    "            counts[i]=min(min(counts[i-1],counts[i//2]),counts[i//3])+1\n",
    "        elif i%2==0:\n",
    "            counts[i]=min(counts[i-1],counts[i//2])+1\n",
    "        elif i%3==0:\n",
    "            counts[i]=min(counts[i-1],counts[i//3])+1\n",
    "        else:\n",
    "            counts[i]=counts[i-1]+1\n",
    "    return counts[todec]\n",
    "a=int(input())\n",
    "print(count_dec(a))"
   ]
  },
  {
   "cell_type": "code",
   "execution_count": null,
   "metadata": {},
   "outputs": [],
   "source": [
    "#"
   ]
  }
 ],
 "metadata": {
  "kernelspec": {
   "display_name": ".venv",
   "language": "python",
   "name": "python3"
  },
  "language_info": {
   "codemirror_mode": {
    "name": "ipython",
    "version": 3
   },
   "file_extension": ".py",
   "mimetype": "text/x-python",
   "name": "python",
   "nbconvert_exporter": "python",
   "pygments_lexer": "ipython3",
   "version": "3.10.12"
  }
 },
 "nbformat": 4,
 "nbformat_minor": 2
}
